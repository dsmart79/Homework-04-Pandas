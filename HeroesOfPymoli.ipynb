{
 "cells": [
  {
   "cell_type": "markdown",
   "metadata": {},
   "source": [
    "### Heroes Of Pymoli Data Analysis\n",
    "* Of the 1163 active players, the vast majority are male (84%). There also exists, a smaller, but notable proportion of female players (14%).\n",
    "\n",
    "* Our peak age demographic falls between 20-24 (44.8%) with secondary groups falling between 15-19 (18.60%) and 25-29 (13.4%).  \n",
    "-----"
   ]
  },
  {
   "cell_type": "markdown",
   "metadata": {},
   "source": [
    "### Note\n",
    "* Instructions have been included for each segment. You do not have to follow them exactly, but they are included to help you think through the steps."
   ]
  },
  {
   "cell_type": "code",
   "execution_count": 50,
   "metadata": {},
   "outputs": [
    {
     "data": {
      "text/html": [
       "<div>\n",
       "<style scoped>\n",
       "    .dataframe tbody tr th:only-of-type {\n",
       "        vertical-align: middle;\n",
       "    }\n",
       "\n",
       "    .dataframe tbody tr th {\n",
       "        vertical-align: top;\n",
       "    }\n",
       "\n",
       "    .dataframe thead th {\n",
       "        text-align: right;\n",
       "    }\n",
       "</style>\n",
       "<table border=\"1\" class=\"dataframe\">\n",
       "  <thead>\n",
       "    <tr style=\"text-align: right;\">\n",
       "      <th></th>\n",
       "      <th>Purchase ID</th>\n",
       "      <th>SN</th>\n",
       "      <th>Age</th>\n",
       "      <th>Gender</th>\n",
       "      <th>Item ID</th>\n",
       "      <th>Item Name</th>\n",
       "      <th>Price</th>\n",
       "    </tr>\n",
       "  </thead>\n",
       "  <tbody>\n",
       "    <tr>\n",
       "      <th>0</th>\n",
       "      <td>0</td>\n",
       "      <td>Lisim78</td>\n",
       "      <td>20</td>\n",
       "      <td>Male</td>\n",
       "      <td>108</td>\n",
       "      <td>Extraction, Quickblade Of Trembling Hands</td>\n",
       "      <td>3.53</td>\n",
       "    </tr>\n",
       "    <tr>\n",
       "      <th>1</th>\n",
       "      <td>1</td>\n",
       "      <td>Lisovynya38</td>\n",
       "      <td>40</td>\n",
       "      <td>Male</td>\n",
       "      <td>143</td>\n",
       "      <td>Frenzied Scimitar</td>\n",
       "      <td>1.56</td>\n",
       "    </tr>\n",
       "    <tr>\n",
       "      <th>2</th>\n",
       "      <td>2</td>\n",
       "      <td>Ithergue48</td>\n",
       "      <td>24</td>\n",
       "      <td>Male</td>\n",
       "      <td>92</td>\n",
       "      <td>Final Critic</td>\n",
       "      <td>4.88</td>\n",
       "    </tr>\n",
       "    <tr>\n",
       "      <th>3</th>\n",
       "      <td>3</td>\n",
       "      <td>Chamassasya86</td>\n",
       "      <td>24</td>\n",
       "      <td>Male</td>\n",
       "      <td>100</td>\n",
       "      <td>Blindscythe</td>\n",
       "      <td>3.27</td>\n",
       "    </tr>\n",
       "    <tr>\n",
       "      <th>4</th>\n",
       "      <td>4</td>\n",
       "      <td>Iskosia90</td>\n",
       "      <td>23</td>\n",
       "      <td>Male</td>\n",
       "      <td>131</td>\n",
       "      <td>Fury</td>\n",
       "      <td>1.44</td>\n",
       "    </tr>\n",
       "  </tbody>\n",
       "</table>\n",
       "</div>"
      ],
      "text/plain": [
       "   Purchase ID             SN  Age Gender  Item ID  \\\n",
       "0            0        Lisim78   20   Male      108   \n",
       "1            1    Lisovynya38   40   Male      143   \n",
       "2            2     Ithergue48   24   Male       92   \n",
       "3            3  Chamassasya86   24   Male      100   \n",
       "4            4      Iskosia90   23   Male      131   \n",
       "\n",
       "                                   Item Name  Price  \n",
       "0  Extraction, Quickblade Of Trembling Hands   3.53  \n",
       "1                          Frenzied Scimitar   1.56  \n",
       "2                               Final Critic   4.88  \n",
       "3                                Blindscythe   3.27  \n",
       "4                                       Fury   1.44  "
      ]
     },
     "execution_count": 50,
     "metadata": {},
     "output_type": "execute_result"
    }
   ],
   "source": [
    "# Dependencies and Setup\n",
    "import pandas as pd\n",
    "\n",
    "import numpy as np\n",
    "\n",
    "\n",
    "# File to Load (Remember to Change These)\n",
    "file_to_load = \"purchase_data.csv\"\n",
    "\n",
    "\n",
    "# Read Purchasing File and store into Pandas data frame\n",
    "purchase_data_df = pd.read_csv(file_to_load)\n",
    "\n",
    "purchase_data_df.head()"
   ]
  },
  {
   "cell_type": "markdown",
   "metadata": {},
   "source": [
    "## Player Count"
   ]
  },
  {
   "cell_type": "markdown",
   "metadata": {},
   "source": [
    "* Display the total number of players\n"
   ]
  },
  {
   "cell_type": "code",
   "execution_count": 51,
   "metadata": {},
   "outputs": [
    {
     "data": {
      "text/html": [
       "<div>\n",
       "<style scoped>\n",
       "    .dataframe tbody tr th:only-of-type {\n",
       "        vertical-align: middle;\n",
       "    }\n",
       "\n",
       "    .dataframe tbody tr th {\n",
       "        vertical-align: top;\n",
       "    }\n",
       "\n",
       "    .dataframe thead th {\n",
       "        text-align: right;\n",
       "    }\n",
       "</style>\n",
       "<table border=\"1\" class=\"dataframe\">\n",
       "  <thead>\n",
       "    <tr style=\"text-align: right;\">\n",
       "      <th></th>\n",
       "      <th>Total Players</th>\n",
       "    </tr>\n",
       "  </thead>\n",
       "  <tbody>\n",
       "    <tr>\n",
       "      <th>0</th>\n",
       "      <td>576</td>\n",
       "    </tr>\n",
       "  </tbody>\n",
       "</table>\n",
       "</div>"
      ],
      "text/plain": [
       "   Total Players\n",
       "0            576"
      ]
     },
     "execution_count": 51,
     "metadata": {},
     "output_type": "execute_result"
    }
   ],
   "source": [
    "# Find the total number of players based on the total number of Screen Names (SN)\n",
    "total_players = len(purchase_data_df[\"SN\"].value_counts())\n",
    "\n",
    "\n",
    "# Create a dataframe with the total players data\n",
    "player_count = pd.DataFrame({\"Total Players\" : [total_players]})\n",
    "\n",
    "player_count"
   ]
  },
  {
   "cell_type": "markdown",
   "metadata": {},
   "source": [
    "## Purchasing Analysis (Total)"
   ]
  },
  {
   "cell_type": "markdown",
   "metadata": {},
   "source": [
    "* Run basic calculations to obtain number of unique items, average price, etc.\n",
    "\n",
    "\n",
    "* Create a summary data frame to hold the results\n",
    "\n",
    "\n",
    "* Optional: give the displayed data cleaner formatting\n",
    "\n",
    "\n",
    "* Display the summary data frame\n"
   ]
  },
  {
   "cell_type": "code",
   "execution_count": 52,
   "metadata": {
    "scrolled": true
   },
   "outputs": [
    {
     "data": {
      "text/html": [
       "<style  type=\"text/css\" >\n",
       "</style><table id=\"T_34103a80_7410_11e9_ae51_1c1bb59a6545\" ><thead>    <tr>        <th class=\"blank level0\" ></th>        <th class=\"col_heading level0 col0\" >Number of Unique Items</th>        <th class=\"col_heading level0 col1\" >Average Price</th>        <th class=\"col_heading level0 col2\" >Number of Purchases</th>        <th class=\"col_heading level0 col3\" >Total Revenue</th>    </tr></thead><tbody>\n",
       "                <tr>\n",
       "                        <th id=\"T_34103a80_7410_11e9_ae51_1c1bb59a6545level0_row0\" class=\"row_heading level0 row0\" >0</th>\n",
       "                        <td id=\"T_34103a80_7410_11e9_ae51_1c1bb59a6545row0_col0\" class=\"data row0 col0\" >183</td>\n",
       "                        <td id=\"T_34103a80_7410_11e9_ae51_1c1bb59a6545row0_col1\" class=\"data row0 col1\" >$3.05</td>\n",
       "                        <td id=\"T_34103a80_7410_11e9_ae51_1c1bb59a6545row0_col2\" class=\"data row0 col2\" >780</td>\n",
       "                        <td id=\"T_34103a80_7410_11e9_ae51_1c1bb59a6545row0_col3\" class=\"data row0 col3\" >$2,379.77</td>\n",
       "            </tr>\n",
       "    </tbody></table>"
      ],
      "text/plain": [
       "<pandas.io.formats.style.Styler at 0x1b702512a90>"
      ]
     },
     "execution_count": 52,
     "metadata": {},
     "output_type": "execute_result"
    }
   ],
   "source": [
    "# Number of unique items sold\n",
    "unique_items = len((purchase_data_df[\"Item ID\"]).unique())\n",
    "\n",
    "\n",
    "# Average price of all the items sold\n",
    "average_price = (purchase_data_df[\"Price\"]).mean()\n",
    "\n",
    "\n",
    "# Total number of purchases\n",
    "number_of_purchases = (purchase_data_df[\"Purchase ID\"]).count()\n",
    "\n",
    "\n",
    "# Total revenue made off all the purchases\n",
    "total_revenue = (purchase_data_df[\"Price\"]).sum()\n",
    "\n",
    "\n",
    "# Creation of a dataframe for all the purchasing data\n",
    "purchase_analysis_df = pd.DataFrame({\"Number of Unique Items\" : [unique_items],\n",
    "                                       \"Average Price\" : [average_price], \n",
    "                                       \"Number of Purchases\" : [number_of_purchases], \n",
    "                                       \"Total Revenue\" : [total_revenue]})\n",
    "\n",
    "\n",
    "# Formatting for currency\n",
    "purchase_analysis_df.style.format({\"Average Price\" : \"${:,.2f}\",\n",
    "                                     \"Total Revenue\" : \"${:,.2f}\"})"
   ]
  },
  {
   "cell_type": "markdown",
   "metadata": {},
   "source": [
    "## Gender Demographics"
   ]
  },
  {
   "cell_type": "markdown",
   "metadata": {},
   "source": [
    "* Percentage and Count of Male Players\n",
    "\n",
    "\n",
    "* Percentage and Count of Female Players\n",
    "\n",
    "\n",
    "* Percentage and Count of Other / Non-Disclosed\n",
    "\n",
    "\n"
   ]
  },
  {
   "cell_type": "code",
   "execution_count": 53,
   "metadata": {},
   "outputs": [
    {
     "data": {
      "text/html": [
       "<style  type=\"text/css\" >\n",
       "</style><table id=\"T_3416a0d4_7410_11e9_8767_1c1bb59a6545\" ><thead>    <tr>        <th class=\"blank level0\" ></th>        <th class=\"col_heading level0 col0\" >Percentage of Players</th>        <th class=\"col_heading level0 col1\" >Total Count</th>    </tr>    <tr>        <th class=\"index_name level0\" >Gender</th>        <th class=\"blank\" ></th>        <th class=\"blank\" ></th>    </tr></thead><tbody>\n",
       "                <tr>\n",
       "                        <th id=\"T_3416a0d4_7410_11e9_8767_1c1bb59a6545level0_row0\" class=\"row_heading level0 row0\" >Female</th>\n",
       "                        <td id=\"T_3416a0d4_7410_11e9_8767_1c1bb59a6545row0_col0\" class=\"data row0 col0\" >14.06%</td>\n",
       "                        <td id=\"T_3416a0d4_7410_11e9_8767_1c1bb59a6545row0_col1\" class=\"data row0 col1\" >81</td>\n",
       "            </tr>\n",
       "            <tr>\n",
       "                        <th id=\"T_3416a0d4_7410_11e9_8767_1c1bb59a6545level0_row1\" class=\"row_heading level0 row1\" >Male</th>\n",
       "                        <td id=\"T_3416a0d4_7410_11e9_8767_1c1bb59a6545row1_col0\" class=\"data row1 col0\" >84.03%</td>\n",
       "                        <td id=\"T_3416a0d4_7410_11e9_8767_1c1bb59a6545row1_col1\" class=\"data row1 col1\" >484</td>\n",
       "            </tr>\n",
       "            <tr>\n",
       "                        <th id=\"T_3416a0d4_7410_11e9_8767_1c1bb59a6545level0_row2\" class=\"row_heading level0 row2\" >Other / Non-Disclosed</th>\n",
       "                        <td id=\"T_3416a0d4_7410_11e9_8767_1c1bb59a6545row2_col0\" class=\"data row2 col0\" >1.91%</td>\n",
       "                        <td id=\"T_3416a0d4_7410_11e9_8767_1c1bb59a6545row2_col1\" class=\"data row2 col1\" >11</td>\n",
       "            </tr>\n",
       "    </tbody></table>"
      ],
      "text/plain": [
       "<pandas.io.formats.style.Styler at 0x1b7049f1470>"
      ]
     },
     "execution_count": 53,
     "metadata": {},
     "output_type": "execute_result"
    }
   ],
   "source": [
    "# Grouping of the data by gender\n",
    "gender_numbers = purchase_data_df.groupby(\"Gender\")\n",
    "\n",
    "\n",
    "# The number of each gender by sorting the unique Screen Names (SN)\n",
    "total_count_gender = gender_numbers.nunique()[\"SN\"]\n",
    "\n",
    "\n",
    "# Percentage of genders with the total number of players found above\n",
    "total_percent_gender = total_count_gender/total_players * 100\n",
    "\n",
    "\n",
    "# Creating a dataframe of the gender percentages\n",
    "total_percent_gender_df = pd.DataFrame({\"Percentage of Players\": total_percent_gender,\n",
    "                                        \"Total Count\": total_count_gender})\n",
    "\n",
    "\n",
    "# Formatting for percentage\n",
    "total_percent_gender_df.style.format({\"Percentage of Players\" : \"{0:.2f}%\"})"
   ]
  },
  {
   "cell_type": "markdown",
   "metadata": {},
   "source": [
    "\n",
    "## Purchasing Analysis (Gender)"
   ]
  },
  {
   "cell_type": "markdown",
   "metadata": {},
   "source": [
    "* Run basic calculations to obtain purchase count, avg. purchase price, avg. purchase total per person etc. by gender\n",
    "\n",
    "\n",
    "\n",
    "\n",
    "* Create a summary data frame to hold the results\n",
    "\n",
    "\n",
    "* Optional: give the displayed data cleaner formatting\n",
    "\n",
    "\n",
    "* Display the summary data frame"
   ]
  },
  {
   "cell_type": "code",
   "execution_count": 54,
   "metadata": {
    "scrolled": true
   },
   "outputs": [
    {
     "data": {
      "text/html": [
       "<style  type=\"text/css\" >\n",
       "</style><table id=\"T_341c4900_7410_11e9_ba0b_1c1bb59a6545\" ><thead>    <tr>        <th class=\"blank level0\" ></th>        <th class=\"col_heading level0 col0\" >Purchase Count by Gender</th>        <th class=\"col_heading level0 col1\" >Average Purchase Price by Gender</th>        <th class=\"col_heading level0 col2\" >Total Purchase Value by Gender</th>        <th class=\"col_heading level0 col3\" >Average Purchase Total per Person by Gender</th>    </tr>    <tr>        <th class=\"index_name level0\" >Gender</th>        <th class=\"blank\" ></th>        <th class=\"blank\" ></th>        <th class=\"blank\" ></th>        <th class=\"blank\" ></th>    </tr></thead><tbody>\n",
       "                <tr>\n",
       "                        <th id=\"T_341c4900_7410_11e9_ba0b_1c1bb59a6545level0_row0\" class=\"row_heading level0 row0\" >Female</th>\n",
       "                        <td id=\"T_341c4900_7410_11e9_ba0b_1c1bb59a6545row0_col0\" class=\"data row0 col0\" >113</td>\n",
       "                        <td id=\"T_341c4900_7410_11e9_ba0b_1c1bb59a6545row0_col1\" class=\"data row0 col1\" >$3.20</td>\n",
       "                        <td id=\"T_341c4900_7410_11e9_ba0b_1c1bb59a6545row0_col2\" class=\"data row0 col2\" >$361.94</td>\n",
       "                        <td id=\"T_341c4900_7410_11e9_ba0b_1c1bb59a6545row0_col3\" class=\"data row0 col3\" >$4.47</td>\n",
       "            </tr>\n",
       "            <tr>\n",
       "                        <th id=\"T_341c4900_7410_11e9_ba0b_1c1bb59a6545level0_row1\" class=\"row_heading level0 row1\" >Male</th>\n",
       "                        <td id=\"T_341c4900_7410_11e9_ba0b_1c1bb59a6545row1_col0\" class=\"data row1 col0\" >652</td>\n",
       "                        <td id=\"T_341c4900_7410_11e9_ba0b_1c1bb59a6545row1_col1\" class=\"data row1 col1\" >$3.02</td>\n",
       "                        <td id=\"T_341c4900_7410_11e9_ba0b_1c1bb59a6545row1_col2\" class=\"data row1 col2\" >$1,967.64</td>\n",
       "                        <td id=\"T_341c4900_7410_11e9_ba0b_1c1bb59a6545row1_col3\" class=\"data row1 col3\" >$4.07</td>\n",
       "            </tr>\n",
       "            <tr>\n",
       "                        <th id=\"T_341c4900_7410_11e9_ba0b_1c1bb59a6545level0_row2\" class=\"row_heading level0 row2\" >Other / Non-Disclosed</th>\n",
       "                        <td id=\"T_341c4900_7410_11e9_ba0b_1c1bb59a6545row2_col0\" class=\"data row2 col0\" >15</td>\n",
       "                        <td id=\"T_341c4900_7410_11e9_ba0b_1c1bb59a6545row2_col1\" class=\"data row2 col1\" >$3.35</td>\n",
       "                        <td id=\"T_341c4900_7410_11e9_ba0b_1c1bb59a6545row2_col2\" class=\"data row2 col2\" >$50.19</td>\n",
       "                        <td id=\"T_341c4900_7410_11e9_ba0b_1c1bb59a6545row2_col3\" class=\"data row2 col3\" >$4.56</td>\n",
       "            </tr>\n",
       "    </tbody></table>"
      ],
      "text/plain": [
       "<pandas.io.formats.style.Styler at 0x1b7029cad30>"
      ]
     },
     "execution_count": 54,
     "metadata": {},
     "output_type": "execute_result"
    }
   ],
   "source": [
    "# Finding the number of purchases by gender\n",
    "gender_purchase_count = gender_numbers[\"Purchase ID\"].count()\n",
    "\n",
    "\n",
    "# Average purchase prices by gender\n",
    "gender_purchase_average = gender_numbers[\"Price\"].mean()\n",
    "\n",
    "\n",
    "# Average purchase total per person by gender\n",
    "gender_purchase_total = gender_numbers[\"Price\"].sum()\n",
    "\n",
    "\n",
    "gender_pruchase_total_average = gender_purchase_total/total_count_gender\n",
    "\n",
    "\n",
    "gender_demographics_df = pd.DataFrame({\"Purchase Count by Gender\": gender_purchase_count, \n",
    "                                    \"Average Purchase Price by Gender\": gender_purchase_average,\n",
    "                                    \"Total Purchase Value by Gender\": gender_purchase_total,\n",
    "                                      \"Average Purchase Total per Person by Gender\": gender_pruchase_total_average})\n",
    "\n",
    "gender_demographics_df.style.format({\"Average Purchase Price by Gender\":\"${:,.2f}\",\n",
    "                                     \"Total Purchase Value by Gender\":\"${:,.2f}\", \n",
    "                                    \"Average Purchase Total per Person by Gender\":\"${:,.2f}\"})"
   ]
  },
  {
   "cell_type": "markdown",
   "metadata": {},
   "source": [
    "## Age Demographics"
   ]
  },
  {
   "cell_type": "markdown",
   "metadata": {},
   "source": [
    "* Establish bins for ages\n",
    "\n",
    "\n",
    "* Categorize the existing players using the age bins. Hint: use pd.cut()\n",
    "\n",
    "\n",
    "* Calculate the numbers and percentages by age group\n",
    "\n",
    "\n",
    "* Create a summary data frame to hold the results\n",
    "\n",
    "\n",
    "* Optional: round the percentage column to two decimal points\n",
    "\n",
    "\n",
    "* Display Age Demographics Table\n"
   ]
  },
  {
   "cell_type": "code",
   "execution_count": 55,
   "metadata": {},
   "outputs": [
    {
     "data": {
      "text/html": [
       "<style  type=\"text/css\" >\n",
       "</style><table id=\"T_3423dc48_7410_11e9_bf72_1c1bb59a6545\" ><thead>    <tr>        <th class=\"blank level0\" ></th>        <th class=\"col_heading level0 col0\" >Percentage of Players by Age</th>        <th class=\"col_heading level0 col1\" >Total Count by Age</th>    </tr>    <tr>        <th class=\"index_name level0\" >Age Group</th>        <th class=\"blank\" ></th>        <th class=\"blank\" ></th>    </tr></thead><tbody>\n",
       "                <tr>\n",
       "                        <th id=\"T_3423dc48_7410_11e9_bf72_1c1bb59a6545level0_row0\" class=\"row_heading level0 row0\" ><10</th>\n",
       "                        <td id=\"T_3423dc48_7410_11e9_bf72_1c1bb59a6545row0_col0\" class=\"data row0 col0\" >2.95%</td>\n",
       "                        <td id=\"T_3423dc48_7410_11e9_bf72_1c1bb59a6545row0_col1\" class=\"data row0 col1\" >17</td>\n",
       "            </tr>\n",
       "            <tr>\n",
       "                        <th id=\"T_3423dc48_7410_11e9_bf72_1c1bb59a6545level0_row1\" class=\"row_heading level0 row1\" >10-14</th>\n",
       "                        <td id=\"T_3423dc48_7410_11e9_bf72_1c1bb59a6545row1_col0\" class=\"data row1 col0\" >3.82%</td>\n",
       "                        <td id=\"T_3423dc48_7410_11e9_bf72_1c1bb59a6545row1_col1\" class=\"data row1 col1\" >22</td>\n",
       "            </tr>\n",
       "            <tr>\n",
       "                        <th id=\"T_3423dc48_7410_11e9_bf72_1c1bb59a6545level0_row2\" class=\"row_heading level0 row2\" >15-19</th>\n",
       "                        <td id=\"T_3423dc48_7410_11e9_bf72_1c1bb59a6545row2_col0\" class=\"data row2 col0\" >18.58%</td>\n",
       "                        <td id=\"T_3423dc48_7410_11e9_bf72_1c1bb59a6545row2_col1\" class=\"data row2 col1\" >107</td>\n",
       "            </tr>\n",
       "            <tr>\n",
       "                        <th id=\"T_3423dc48_7410_11e9_bf72_1c1bb59a6545level0_row3\" class=\"row_heading level0 row3\" >20-24</th>\n",
       "                        <td id=\"T_3423dc48_7410_11e9_bf72_1c1bb59a6545row3_col0\" class=\"data row3 col0\" >44.79%</td>\n",
       "                        <td id=\"T_3423dc48_7410_11e9_bf72_1c1bb59a6545row3_col1\" class=\"data row3 col1\" >258</td>\n",
       "            </tr>\n",
       "            <tr>\n",
       "                        <th id=\"T_3423dc48_7410_11e9_bf72_1c1bb59a6545level0_row4\" class=\"row_heading level0 row4\" >25-29</th>\n",
       "                        <td id=\"T_3423dc48_7410_11e9_bf72_1c1bb59a6545row4_col0\" class=\"data row4 col0\" >13.37%</td>\n",
       "                        <td id=\"T_3423dc48_7410_11e9_bf72_1c1bb59a6545row4_col1\" class=\"data row4 col1\" >77</td>\n",
       "            </tr>\n",
       "            <tr>\n",
       "                        <th id=\"T_3423dc48_7410_11e9_bf72_1c1bb59a6545level0_row5\" class=\"row_heading level0 row5\" >30-34</th>\n",
       "                        <td id=\"T_3423dc48_7410_11e9_bf72_1c1bb59a6545row5_col0\" class=\"data row5 col0\" >4.34%</td>\n",
       "                        <td id=\"T_3423dc48_7410_11e9_bf72_1c1bb59a6545row5_col1\" class=\"data row5 col1\" >25</td>\n",
       "            </tr>\n",
       "            <tr>\n",
       "                        <th id=\"T_3423dc48_7410_11e9_bf72_1c1bb59a6545level0_row6\" class=\"row_heading level0 row6\" >35-39</th>\n",
       "                        <td id=\"T_3423dc48_7410_11e9_bf72_1c1bb59a6545row6_col0\" class=\"data row6 col0\" >10.07%</td>\n",
       "                        <td id=\"T_3423dc48_7410_11e9_bf72_1c1bb59a6545row6_col1\" class=\"data row6 col1\" >58</td>\n",
       "            </tr>\n",
       "            <tr>\n",
       "                        <th id=\"T_3423dc48_7410_11e9_bf72_1c1bb59a6545level0_row7\" class=\"row_heading level0 row7\" >40+</th>\n",
       "                        <td id=\"T_3423dc48_7410_11e9_bf72_1c1bb59a6545row7_col0\" class=\"data row7 col0\" >2.08%</td>\n",
       "                        <td id=\"T_3423dc48_7410_11e9_bf72_1c1bb59a6545row7_col1\" class=\"data row7 col1\" >12</td>\n",
       "            </tr>\n",
       "    </tbody></table>"
      ],
      "text/plain": [
       "<pandas.io.formats.style.Styler at 0x1b70450eba8>"
      ]
     },
     "execution_count": 55,
     "metadata": {},
     "output_type": "execute_result"
    }
   ],
   "source": [
    "# Creating bins for ages\n",
    "age_bins = [0, 9,  14, 19, 24, 29, 30, 39, 99999]\n",
    "group_names = [\"<10\", \"10-14\", \"15-19\", \"20-24\", \"25-29\", \"30-34\", \"35-39\", \"40+\"]\n",
    "\n",
    "\n",
    "# Cutting out the age data from the dataframe and into bins\n",
    "purchase_data_df[\"Age Group\"] = pd.cut(purchase_data_df[\"Age\"], age_bins, labels=group_names)\n",
    "\n",
    "\n",
    "# Grouping by age bins\n",
    "ages_grouped = purchase_data_df.groupby(\"Age Group\")\n",
    "\n",
    "# Total number of unique screen names by bin\n",
    "total_age_count = ages_grouped[\"SN\"].nunique()\n",
    "\n",
    "\n",
    "# Percent based on the total players by bin\n",
    "percentage_age_group = (total_age_count/total_players) * 100\n",
    "\n",
    "\n",
    "# Creating the dataframe to display the data\n",
    "ages_demographics = pd.DataFrame({\"Percentage of Players by Age\": percentage_age_group,\n",
    "                                  \"Total Count by Age\": total_age_count})\n",
    "\n",
    "ages_demographics.style.format({\"Percentage of Players by Age\":\"{0:.2f}%\"})"
   ]
  },
  {
   "cell_type": "markdown",
   "metadata": {},
   "source": [
    "## Purchasing Analysis (Age)"
   ]
  },
  {
   "cell_type": "markdown",
   "metadata": {},
   "source": [
    "* Bin the purchase_data data frame by age\n",
    "\n",
    "\n",
    "* Run basic calculations to obtain purchase count, avg. purchase price, avg. purchase total per person etc. in the table below\n",
    "\n",
    "\n",
    "* Create a summary data frame to hold the results\n",
    "\n",
    "\n",
    "* Optional: give the displayed data cleaner formatting\n",
    "\n",
    "\n",
    "* Display the summary data frame"
   ]
  },
  {
   "cell_type": "code",
   "execution_count": 56,
   "metadata": {},
   "outputs": [
    {
     "data": {
      "text/html": [
       "<style  type=\"text/css\" >\n",
       "</style><table id=\"T_3428e1ee_7410_11e9_9320_1c1bb59a6545\" ><thead>    <tr>        <th class=\"blank level0\" ></th>        <th class=\"col_heading level0 col0\" >Purchase Count by Age</th>        <th class=\"col_heading level0 col1\" >Average Purchase by Age</th>        <th class=\"col_heading level0 col2\" >Total Purchase Value by Age</th>        <th class=\"col_heading level0 col3\" >Average Purchase Total per Person by Age</th>    </tr>    <tr>        <th class=\"index_name level0\" >Age Group</th>        <th class=\"blank\" ></th>        <th class=\"blank\" ></th>        <th class=\"blank\" ></th>        <th class=\"blank\" ></th>    </tr></thead><tbody>\n",
       "                <tr>\n",
       "                        <th id=\"T_3428e1ee_7410_11e9_9320_1c1bb59a6545level0_row0\" class=\"row_heading level0 row0\" ><10</th>\n",
       "                        <td id=\"T_3428e1ee_7410_11e9_9320_1c1bb59a6545row0_col0\" class=\"data row0 col0\" >23</td>\n",
       "                        <td id=\"T_3428e1ee_7410_11e9_9320_1c1bb59a6545row0_col1\" class=\"data row0 col1\" >$3.35</td>\n",
       "                        <td id=\"T_3428e1ee_7410_11e9_9320_1c1bb59a6545row0_col2\" class=\"data row0 col2\" >$77.13</td>\n",
       "                        <td id=\"T_3428e1ee_7410_11e9_9320_1c1bb59a6545row0_col3\" class=\"data row0 col3\" >$4.54</td>\n",
       "            </tr>\n",
       "            <tr>\n",
       "                        <th id=\"T_3428e1ee_7410_11e9_9320_1c1bb59a6545level0_row1\" class=\"row_heading level0 row1\" >10-14</th>\n",
       "                        <td id=\"T_3428e1ee_7410_11e9_9320_1c1bb59a6545row1_col0\" class=\"data row1 col0\" >28</td>\n",
       "                        <td id=\"T_3428e1ee_7410_11e9_9320_1c1bb59a6545row1_col1\" class=\"data row1 col1\" >$2.96</td>\n",
       "                        <td id=\"T_3428e1ee_7410_11e9_9320_1c1bb59a6545row1_col2\" class=\"data row1 col2\" >$82.78</td>\n",
       "                        <td id=\"T_3428e1ee_7410_11e9_9320_1c1bb59a6545row1_col3\" class=\"data row1 col3\" >$3.76</td>\n",
       "            </tr>\n",
       "            <tr>\n",
       "                        <th id=\"T_3428e1ee_7410_11e9_9320_1c1bb59a6545level0_row2\" class=\"row_heading level0 row2\" >15-19</th>\n",
       "                        <td id=\"T_3428e1ee_7410_11e9_9320_1c1bb59a6545row2_col0\" class=\"data row2 col0\" >136</td>\n",
       "                        <td id=\"T_3428e1ee_7410_11e9_9320_1c1bb59a6545row2_col1\" class=\"data row2 col1\" >$3.04</td>\n",
       "                        <td id=\"T_3428e1ee_7410_11e9_9320_1c1bb59a6545row2_col2\" class=\"data row2 col2\" >$412.89</td>\n",
       "                        <td id=\"T_3428e1ee_7410_11e9_9320_1c1bb59a6545row2_col3\" class=\"data row2 col3\" >$3.86</td>\n",
       "            </tr>\n",
       "            <tr>\n",
       "                        <th id=\"T_3428e1ee_7410_11e9_9320_1c1bb59a6545level0_row3\" class=\"row_heading level0 row3\" >20-24</th>\n",
       "                        <td id=\"T_3428e1ee_7410_11e9_9320_1c1bb59a6545row3_col0\" class=\"data row3 col0\" >365</td>\n",
       "                        <td id=\"T_3428e1ee_7410_11e9_9320_1c1bb59a6545row3_col1\" class=\"data row3 col1\" >$3.05</td>\n",
       "                        <td id=\"T_3428e1ee_7410_11e9_9320_1c1bb59a6545row3_col2\" class=\"data row3 col2\" >$1,114.06</td>\n",
       "                        <td id=\"T_3428e1ee_7410_11e9_9320_1c1bb59a6545row3_col3\" class=\"data row3 col3\" >$4.32</td>\n",
       "            </tr>\n",
       "            <tr>\n",
       "                        <th id=\"T_3428e1ee_7410_11e9_9320_1c1bb59a6545level0_row4\" class=\"row_heading level0 row4\" >25-29</th>\n",
       "                        <td id=\"T_3428e1ee_7410_11e9_9320_1c1bb59a6545row4_col0\" class=\"data row4 col0\" >101</td>\n",
       "                        <td id=\"T_3428e1ee_7410_11e9_9320_1c1bb59a6545row4_col1\" class=\"data row4 col1\" >$2.90</td>\n",
       "                        <td id=\"T_3428e1ee_7410_11e9_9320_1c1bb59a6545row4_col2\" class=\"data row4 col2\" >$293.00</td>\n",
       "                        <td id=\"T_3428e1ee_7410_11e9_9320_1c1bb59a6545row4_col3\" class=\"data row4 col3\" >$3.81</td>\n",
       "            </tr>\n",
       "            <tr>\n",
       "                        <th id=\"T_3428e1ee_7410_11e9_9320_1c1bb59a6545level0_row5\" class=\"row_heading level0 row5\" >30-34</th>\n",
       "                        <td id=\"T_3428e1ee_7410_11e9_9320_1c1bb59a6545row5_col0\" class=\"data row5 col0\" >35</td>\n",
       "                        <td id=\"T_3428e1ee_7410_11e9_9320_1c1bb59a6545row5_col1\" class=\"data row5 col1\" >$3.15</td>\n",
       "                        <td id=\"T_3428e1ee_7410_11e9_9320_1c1bb59a6545row5_col2\" class=\"data row5 col2\" >$110.32</td>\n",
       "                        <td id=\"T_3428e1ee_7410_11e9_9320_1c1bb59a6545row5_col3\" class=\"data row5 col3\" >$4.41</td>\n",
       "            </tr>\n",
       "            <tr>\n",
       "                        <th id=\"T_3428e1ee_7410_11e9_9320_1c1bb59a6545level0_row6\" class=\"row_heading level0 row6\" >35-39</th>\n",
       "                        <td id=\"T_3428e1ee_7410_11e9_9320_1c1bb59a6545row6_col0\" class=\"data row6 col0\" >79</td>\n",
       "                        <td id=\"T_3428e1ee_7410_11e9_9320_1c1bb59a6545row6_col1\" class=\"data row6 col1\" >$3.18</td>\n",
       "                        <td id=\"T_3428e1ee_7410_11e9_9320_1c1bb59a6545row6_col2\" class=\"data row6 col2\" >$251.35</td>\n",
       "                        <td id=\"T_3428e1ee_7410_11e9_9320_1c1bb59a6545row6_col3\" class=\"data row6 col3\" >$4.33</td>\n",
       "            </tr>\n",
       "            <tr>\n",
       "                        <th id=\"T_3428e1ee_7410_11e9_9320_1c1bb59a6545level0_row7\" class=\"row_heading level0 row7\" >40+</th>\n",
       "                        <td id=\"T_3428e1ee_7410_11e9_9320_1c1bb59a6545row7_col0\" class=\"data row7 col0\" >13</td>\n",
       "                        <td id=\"T_3428e1ee_7410_11e9_9320_1c1bb59a6545row7_col1\" class=\"data row7 col1\" >$2.94</td>\n",
       "                        <td id=\"T_3428e1ee_7410_11e9_9320_1c1bb59a6545row7_col2\" class=\"data row7 col2\" >$38.24</td>\n",
       "                        <td id=\"T_3428e1ee_7410_11e9_9320_1c1bb59a6545row7_col3\" class=\"data row7 col3\" >$3.19</td>\n",
       "            </tr>\n",
       "    </tbody></table>"
      ],
      "text/plain": [
       "<pandas.io.formats.style.Styler at 0x1b702ed44e0>"
      ]
     },
     "execution_count": 56,
     "metadata": {},
     "output_type": "execute_result"
    }
   ],
   "source": [
    "age_purchase_count = ages_grouped[\"Purchase ID\"].count()\n",
    "\n",
    "\n",
    "age_purchase_average = ages_grouped[\"Price\"].mean()\n",
    "\n",
    "\n",
    "age_purchase_total = ages_grouped[\"Price\"].sum()\n",
    "\n",
    "\n",
    "age_pruchase_total_average = age_purchase_total/total_age_count\n",
    "\n",
    "\n",
    "ages_demographics = pd.DataFrame({\"Purchase Count by Age\": age_purchase_count,\n",
    "                                  \"Average Purchase by Age\": age_purchase_average,\n",
    "                                  \"Total Purchase Value by Age\": age_purchase_total,\n",
    "                                  \"Average Purchase Total per Person by Age\": age_pruchase_total_average})\n",
    "\n",
    "ages_demographics.style.format({\"Average Purchase by Age\":\"${:,.2f}\",\n",
    "                                \"Total Purchase Value by Age\":\"${:,.2f}\",\n",
    "                                \"Average Purchase Total per Person by Age\":\"${:,.2f}\"})"
   ]
  },
  {
   "cell_type": "markdown",
   "metadata": {},
   "source": [
    "## Top Spenders"
   ]
  },
  {
   "cell_type": "markdown",
   "metadata": {},
   "source": [
    "* Run basic calculations to obtain the results in the table below\n",
    "\n",
    "\n",
    "* Create a summary data frame to hold the results\n",
    "\n",
    "\n",
    "* Sort the total purchase value column in descending order\n",
    "\n",
    "\n",
    "* Optional: give the displayed data cleaner formatting\n",
    "\n",
    "\n",
    "* Display a preview of the summary data frame\n",
    "\n"
   ]
  },
  {
   "cell_type": "code",
   "execution_count": 57,
   "metadata": {
    "scrolled": true
   },
   "outputs": [
    {
     "data": {
      "text/html": [
       "<style  type=\"text/css\" >\n",
       "</style><table id=\"T_343056c6_7410_11e9_a0a8_1c1bb59a6545\" ><thead>    <tr>        <th class=\"blank level0\" ></th>        <th class=\"col_heading level0 col0\" >Purchase Count</th>        <th class=\"col_heading level0 col1\" >Average Purchase</th>        <th class=\"col_heading level0 col2\" >Total Purchase Value</th>    </tr>    <tr>        <th class=\"index_name level0\" >SN</th>        <th class=\"blank\" ></th>        <th class=\"blank\" ></th>        <th class=\"blank\" ></th>    </tr></thead><tbody>\n",
       "                <tr>\n",
       "                        <th id=\"T_343056c6_7410_11e9_a0a8_1c1bb59a6545level0_row0\" class=\"row_heading level0 row0\" >Lisosia93</th>\n",
       "                        <td id=\"T_343056c6_7410_11e9_a0a8_1c1bb59a6545row0_col0\" class=\"data row0 col0\" >5</td>\n",
       "                        <td id=\"T_343056c6_7410_11e9_a0a8_1c1bb59a6545row0_col1\" class=\"data row0 col1\" >$3.79</td>\n",
       "                        <td id=\"T_343056c6_7410_11e9_a0a8_1c1bb59a6545row0_col2\" class=\"data row0 col2\" >$18.96</td>\n",
       "            </tr>\n",
       "            <tr>\n",
       "                        <th id=\"T_343056c6_7410_11e9_a0a8_1c1bb59a6545level0_row1\" class=\"row_heading level0 row1\" >Iral74</th>\n",
       "                        <td id=\"T_343056c6_7410_11e9_a0a8_1c1bb59a6545row1_col0\" class=\"data row1 col0\" >4</td>\n",
       "                        <td id=\"T_343056c6_7410_11e9_a0a8_1c1bb59a6545row1_col1\" class=\"data row1 col1\" >$3.40</td>\n",
       "                        <td id=\"T_343056c6_7410_11e9_a0a8_1c1bb59a6545row1_col2\" class=\"data row1 col2\" >$13.62</td>\n",
       "            </tr>\n",
       "            <tr>\n",
       "                        <th id=\"T_343056c6_7410_11e9_a0a8_1c1bb59a6545level0_row2\" class=\"row_heading level0 row2\" >Idastidru52</th>\n",
       "                        <td id=\"T_343056c6_7410_11e9_a0a8_1c1bb59a6545row2_col0\" class=\"data row2 col0\" >4</td>\n",
       "                        <td id=\"T_343056c6_7410_11e9_a0a8_1c1bb59a6545row2_col1\" class=\"data row2 col1\" >$3.86</td>\n",
       "                        <td id=\"T_343056c6_7410_11e9_a0a8_1c1bb59a6545row2_col2\" class=\"data row2 col2\" >$15.45</td>\n",
       "            </tr>\n",
       "            <tr>\n",
       "                        <th id=\"T_343056c6_7410_11e9_a0a8_1c1bb59a6545level0_row3\" class=\"row_heading level0 row3\" >Asur53</th>\n",
       "                        <td id=\"T_343056c6_7410_11e9_a0a8_1c1bb59a6545row3_col0\" class=\"data row3 col0\" >3</td>\n",
       "                        <td id=\"T_343056c6_7410_11e9_a0a8_1c1bb59a6545row3_col1\" class=\"data row3 col1\" >$2.48</td>\n",
       "                        <td id=\"T_343056c6_7410_11e9_a0a8_1c1bb59a6545row3_col2\" class=\"data row3 col2\" >$7.44</td>\n",
       "            </tr>\n",
       "            <tr>\n",
       "                        <th id=\"T_343056c6_7410_11e9_a0a8_1c1bb59a6545level0_row4\" class=\"row_heading level0 row4\" >Inguron55</th>\n",
       "                        <td id=\"T_343056c6_7410_11e9_a0a8_1c1bb59a6545row4_col0\" class=\"data row4 col0\" >3</td>\n",
       "                        <td id=\"T_343056c6_7410_11e9_a0a8_1c1bb59a6545row4_col1\" class=\"data row4 col1\" >$3.70</td>\n",
       "                        <td id=\"T_343056c6_7410_11e9_a0a8_1c1bb59a6545row4_col2\" class=\"data row4 col2\" >$11.11</td>\n",
       "            </tr>\n",
       "    </tbody></table>"
      ],
      "text/plain": [
       "<pandas.io.formats.style.Styler at 0x1b702ec5e48>"
      ]
     },
     "execution_count": 57,
     "metadata": {},
     "output_type": "execute_result"
    }
   ],
   "source": [
    "spender_data = purchase_data_df.groupby([\"SN\"])\n",
    "\n",
    "\n",
    "spender_purchase_count = spender_data[\"Purchase ID\"].count()\n",
    "\n",
    "\n",
    "spender_purchase_price_avg = spender_data[\"Price\"].mean()\n",
    "\n",
    "\n",
    "spender_purchase_total = spender_data[\"Price\"].sum()\n",
    "\n",
    "\n",
    "top_spender = pd.DataFrame({\"Purchase Count\": spender_purchase_count,\n",
    "                            \"Average Purchase\": spender_purchase_price_avg,\n",
    "                            \"Total Purchase Value\": spender_purchase_total})\n",
    "\n",
    "top_spender_sorted = top_spender.sort_values([\"Purchase Count\"], ascending=False).head()\n",
    "\n",
    "top_spender_sorted.style.format({\"Average Purchase\":\"${:,.2f}\",\n",
    "                        \"Total Purchase Value\":\"${:,.2f}\"})"
   ]
  },
  {
   "cell_type": "markdown",
   "metadata": {},
   "source": [
    "## Most Popular Items"
   ]
  },
  {
   "cell_type": "markdown",
   "metadata": {},
   "source": [
    "* Retrieve the Item ID, Item Name, and Item Price columns\n",
    "\n",
    "\n",
    "* Group by Item ID and Item Name. Perform calculations to obtain purchase count, item price, and total purchase value\n",
    "\n",
    "\n",
    "* Create a summary data frame to hold the results\n",
    "\n",
    "\n",
    "* Sort the purchase count column in descending order\n",
    "\n",
    "\n",
    "* Optional: give the displayed data cleaner formatting\n",
    "\n",
    "\n",
    "* Display a preview of the summary data frame\n",
    "\n"
   ]
  },
  {
   "cell_type": "code",
   "execution_count": 58,
   "metadata": {},
   "outputs": [
    {
     "data": {
      "text/html": [
       "<style  type=\"text/css\" >\n",
       "</style><table id=\"T_3436e236_7410_11e9_988a_1c1bb59a6545\" ><thead>    <tr>        <th class=\"blank\" ></th>        <th class=\"blank level0\" ></th>        <th class=\"col_heading level0 col0\" >Purchase Count</th>        <th class=\"col_heading level0 col1\" >Item Price</th>        <th class=\"col_heading level0 col2\" >Total Purchase Value</th>    </tr>    <tr>        <th class=\"index_name level0\" >Item ID</th>        <th class=\"index_name level1\" >Item Name</th>        <th class=\"blank\" ></th>        <th class=\"blank\" ></th>        <th class=\"blank\" ></th>    </tr></thead><tbody>\n",
       "                <tr>\n",
       "                        <th id=\"T_3436e236_7410_11e9_988a_1c1bb59a6545level0_row0\" class=\"row_heading level0 row0\" >178</th>\n",
       "                        <th id=\"T_3436e236_7410_11e9_988a_1c1bb59a6545level1_row0\" class=\"row_heading level1 row0\" >Oathbreaker, Last Hope of the Breaking Storm</th>\n",
       "                        <td id=\"T_3436e236_7410_11e9_988a_1c1bb59a6545row0_col0\" class=\"data row0 col0\" >12</td>\n",
       "                        <td id=\"T_3436e236_7410_11e9_988a_1c1bb59a6545row0_col1\" class=\"data row0 col1\" >$4.23</td>\n",
       "                        <td id=\"T_3436e236_7410_11e9_988a_1c1bb59a6545row0_col2\" class=\"data row0 col2\" >$50.76</td>\n",
       "            </tr>\n",
       "            <tr>\n",
       "                        <th id=\"T_3436e236_7410_11e9_988a_1c1bb59a6545level0_row1\" class=\"row_heading level0 row1\" >145</th>\n",
       "                        <th id=\"T_3436e236_7410_11e9_988a_1c1bb59a6545level1_row1\" class=\"row_heading level1 row1\" >Fiery Glass Crusader</th>\n",
       "                        <td id=\"T_3436e236_7410_11e9_988a_1c1bb59a6545row1_col0\" class=\"data row1 col0\" >9</td>\n",
       "                        <td id=\"T_3436e236_7410_11e9_988a_1c1bb59a6545row1_col1\" class=\"data row1 col1\" >$4.58</td>\n",
       "                        <td id=\"T_3436e236_7410_11e9_988a_1c1bb59a6545row1_col2\" class=\"data row1 col2\" >$41.22</td>\n",
       "            </tr>\n",
       "            <tr>\n",
       "                        <th id=\"T_3436e236_7410_11e9_988a_1c1bb59a6545level0_row2\" class=\"row_heading level0 row2\" >108</th>\n",
       "                        <th id=\"T_3436e236_7410_11e9_988a_1c1bb59a6545level1_row2\" class=\"row_heading level1 row2\" >Extraction, Quickblade Of Trembling Hands</th>\n",
       "                        <td id=\"T_3436e236_7410_11e9_988a_1c1bb59a6545row2_col0\" class=\"data row2 col0\" >9</td>\n",
       "                        <td id=\"T_3436e236_7410_11e9_988a_1c1bb59a6545row2_col1\" class=\"data row2 col1\" >$3.53</td>\n",
       "                        <td id=\"T_3436e236_7410_11e9_988a_1c1bb59a6545row2_col2\" class=\"data row2 col2\" >$31.77</td>\n",
       "            </tr>\n",
       "            <tr>\n",
       "                        <th id=\"T_3436e236_7410_11e9_988a_1c1bb59a6545level0_row3\" class=\"row_heading level0 row3\" >82</th>\n",
       "                        <th id=\"T_3436e236_7410_11e9_988a_1c1bb59a6545level1_row3\" class=\"row_heading level1 row3\" >Nirvana</th>\n",
       "                        <td id=\"T_3436e236_7410_11e9_988a_1c1bb59a6545row3_col0\" class=\"data row3 col0\" >9</td>\n",
       "                        <td id=\"T_3436e236_7410_11e9_988a_1c1bb59a6545row3_col1\" class=\"data row3 col1\" >$4.90</td>\n",
       "                        <td id=\"T_3436e236_7410_11e9_988a_1c1bb59a6545row3_col2\" class=\"data row3 col2\" >$44.10</td>\n",
       "            </tr>\n",
       "            <tr>\n",
       "                        <th id=\"T_3436e236_7410_11e9_988a_1c1bb59a6545level0_row4\" class=\"row_heading level0 row4\" >19</th>\n",
       "                        <th id=\"T_3436e236_7410_11e9_988a_1c1bb59a6545level1_row4\" class=\"row_heading level1 row4\" >Pursuit, Cudgel of Necromancy</th>\n",
       "                        <td id=\"T_3436e236_7410_11e9_988a_1c1bb59a6545row4_col0\" class=\"data row4 col0\" >8</td>\n",
       "                        <td id=\"T_3436e236_7410_11e9_988a_1c1bb59a6545row4_col1\" class=\"data row4 col1\" >$1.02</td>\n",
       "                        <td id=\"T_3436e236_7410_11e9_988a_1c1bb59a6545row4_col2\" class=\"data row4 col2\" >$8.16</td>\n",
       "            </tr>\n",
       "    </tbody></table>"
      ],
      "text/plain": [
       "<pandas.io.formats.style.Styler at 0x1b702eb43c8>"
      ]
     },
     "execution_count": 58,
     "metadata": {},
     "output_type": "execute_result"
    }
   ],
   "source": [
    "items = purchase_data_df[[\"Item ID\", \"Item Name\", \"Price\"]]\n",
    "\n",
    "\n",
    "grouped_items = items.groupby([\"Item ID\", \"Item Name\"])\n",
    "\n",
    "\n",
    "item_purchase_count = grouped_items[\"Price\"].count()\n",
    "\n",
    "\n",
    "item_total_purchase_value = (grouped_items[\"Price\"]).sum()\n",
    "\n",
    "\n",
    "item_price = item_total_purchase_value/item_purchase_count\n",
    "\n",
    "\n",
    "popular_items = pd.DataFrame({\"Purchase Count\":item_purchase_count,\n",
    "                             \"Item Price\": item_price,\n",
    "                             \"Total Purchase Value\": item_total_purchase_value})\n",
    "\n",
    "popular_items_sorted = popular_items.sort_values([\"Purchase Count\"], ascending=False).head()\n",
    "\n",
    "popular_items_sorted.style.format({\"Item Price\":\"${:,.2f}\",\n",
    "                        \"Total Purchase Value\":\"${:,.2f}\"})"
   ]
  },
  {
   "cell_type": "markdown",
   "metadata": {},
   "source": [
    "## Most Profitable Items"
   ]
  },
  {
   "cell_type": "markdown",
   "metadata": {},
   "source": [
    "* Sort the above table by total purchase value in descending order\n",
    "\n",
    "\n",
    "* Optional: give the displayed data cleaner formatting\n",
    "\n",
    "\n",
    "* Display a preview of the data frame\n",
    "\n"
   ]
  },
  {
   "cell_type": "code",
   "execution_count": 59,
   "metadata": {
    "scrolled": true
   },
   "outputs": [
    {
     "data": {
      "text/html": [
       "<style  type=\"text/css\" >\n",
       "</style><table id=\"T_343afe0c_7410_11e9_b866_1c1bb59a6545\" ><thead>    <tr>        <th class=\"blank\" ></th>        <th class=\"blank level0\" ></th>        <th class=\"col_heading level0 col0\" >Purchase Count</th>        <th class=\"col_heading level0 col1\" >Item Price</th>        <th class=\"col_heading level0 col2\" >Total Purchase Value</th>    </tr>    <tr>        <th class=\"index_name level0\" >Item ID</th>        <th class=\"index_name level1\" >Item Name</th>        <th class=\"blank\" ></th>        <th class=\"blank\" ></th>        <th class=\"blank\" ></th>    </tr></thead><tbody>\n",
       "                <tr>\n",
       "                        <th id=\"T_343afe0c_7410_11e9_b866_1c1bb59a6545level0_row0\" class=\"row_heading level0 row0\" >178</th>\n",
       "                        <th id=\"T_343afe0c_7410_11e9_b866_1c1bb59a6545level1_row0\" class=\"row_heading level1 row0\" >Oathbreaker, Last Hope of the Breaking Storm</th>\n",
       "                        <td id=\"T_343afe0c_7410_11e9_b866_1c1bb59a6545row0_col0\" class=\"data row0 col0\" >12</td>\n",
       "                        <td id=\"T_343afe0c_7410_11e9_b866_1c1bb59a6545row0_col1\" class=\"data row0 col1\" >$4.23</td>\n",
       "                        <td id=\"T_343afe0c_7410_11e9_b866_1c1bb59a6545row0_col2\" class=\"data row0 col2\" >$50.76</td>\n",
       "            </tr>\n",
       "            <tr>\n",
       "                        <th id=\"T_343afe0c_7410_11e9_b866_1c1bb59a6545level0_row1\" class=\"row_heading level0 row1\" >82</th>\n",
       "                        <th id=\"T_343afe0c_7410_11e9_b866_1c1bb59a6545level1_row1\" class=\"row_heading level1 row1\" >Nirvana</th>\n",
       "                        <td id=\"T_343afe0c_7410_11e9_b866_1c1bb59a6545row1_col0\" class=\"data row1 col0\" >9</td>\n",
       "                        <td id=\"T_343afe0c_7410_11e9_b866_1c1bb59a6545row1_col1\" class=\"data row1 col1\" >$4.90</td>\n",
       "                        <td id=\"T_343afe0c_7410_11e9_b866_1c1bb59a6545row1_col2\" class=\"data row1 col2\" >$44.10</td>\n",
       "            </tr>\n",
       "            <tr>\n",
       "                        <th id=\"T_343afe0c_7410_11e9_b866_1c1bb59a6545level0_row2\" class=\"row_heading level0 row2\" >145</th>\n",
       "                        <th id=\"T_343afe0c_7410_11e9_b866_1c1bb59a6545level1_row2\" class=\"row_heading level1 row2\" >Fiery Glass Crusader</th>\n",
       "                        <td id=\"T_343afe0c_7410_11e9_b866_1c1bb59a6545row2_col0\" class=\"data row2 col0\" >9</td>\n",
       "                        <td id=\"T_343afe0c_7410_11e9_b866_1c1bb59a6545row2_col1\" class=\"data row2 col1\" >$4.58</td>\n",
       "                        <td id=\"T_343afe0c_7410_11e9_b866_1c1bb59a6545row2_col2\" class=\"data row2 col2\" >$41.22</td>\n",
       "            </tr>\n",
       "            <tr>\n",
       "                        <th id=\"T_343afe0c_7410_11e9_b866_1c1bb59a6545level0_row3\" class=\"row_heading level0 row3\" >92</th>\n",
       "                        <th id=\"T_343afe0c_7410_11e9_b866_1c1bb59a6545level1_row3\" class=\"row_heading level1 row3\" >Final Critic</th>\n",
       "                        <td id=\"T_343afe0c_7410_11e9_b866_1c1bb59a6545row3_col0\" class=\"data row3 col0\" >8</td>\n",
       "                        <td id=\"T_343afe0c_7410_11e9_b866_1c1bb59a6545row3_col1\" class=\"data row3 col1\" >$4.88</td>\n",
       "                        <td id=\"T_343afe0c_7410_11e9_b866_1c1bb59a6545row3_col2\" class=\"data row3 col2\" >$39.04</td>\n",
       "            </tr>\n",
       "            <tr>\n",
       "                        <th id=\"T_343afe0c_7410_11e9_b866_1c1bb59a6545level0_row4\" class=\"row_heading level0 row4\" >103</th>\n",
       "                        <th id=\"T_343afe0c_7410_11e9_b866_1c1bb59a6545level1_row4\" class=\"row_heading level1 row4\" >Singed Scalpel</th>\n",
       "                        <td id=\"T_343afe0c_7410_11e9_b866_1c1bb59a6545row4_col0\" class=\"data row4 col0\" >8</td>\n",
       "                        <td id=\"T_343afe0c_7410_11e9_b866_1c1bb59a6545row4_col1\" class=\"data row4 col1\" >$4.35</td>\n",
       "                        <td id=\"T_343afe0c_7410_11e9_b866_1c1bb59a6545row4_col2\" class=\"data row4 col2\" >$34.80</td>\n",
       "            </tr>\n",
       "    </tbody></table>"
      ],
      "text/plain": [
       "<pandas.io.formats.style.Styler at 0x1b7029caa58>"
      ]
     },
     "execution_count": 59,
     "metadata": {},
     "output_type": "execute_result"
    }
   ],
   "source": [
    "# Sorting the popular items dataframe by the total purchase value\n",
    "profitable_items = popular_items .sort_values([\"Total Purchase Value\"], ascending=False).head()\n",
    "\n",
    "profitable_items.style.format({\"Item Price\":\"${:,.2f}\",\n",
    "                        \"Total Purchase Value\":\"${:,.2f}\"})"
   ]
  },
  {
   "cell_type": "code",
   "execution_count": null,
   "metadata": {},
   "outputs": [],
   "source": []
  }
 ],
 "metadata": {
  "anaconda-cloud": {},
  "kernel_info": {
   "name": "python3"
  },
  "kernelspec": {
   "display_name": "Python [conda env:PythonData] *",
   "language": "python",
   "name": "conda-env-PythonData-py"
  },
  "language_info": {
   "codemirror_mode": {
    "name": "ipython",
    "version": 3
   },
   "file_extension": ".py",
   "mimetype": "text/x-python",
   "name": "python",
   "nbconvert_exporter": "python",
   "pygments_lexer": "ipython3",
   "version": "3.6.8"
  },
  "nteract": {
   "version": "0.2.0"
  }
 },
 "nbformat": 4,
 "nbformat_minor": 2
}
